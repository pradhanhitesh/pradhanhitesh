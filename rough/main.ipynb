{
 "cells": [
  {
   "cell_type": "code",
   "execution_count": 22,
   "metadata": {},
   "outputs": [],
   "source": [
    "import re\n",
    "import requests\n",
    "import smtplib\n",
    "from email.message import EmailMessage\n",
    "from bs4 import BeautifulSoup\n",
    "from datetime import datetime, timedelta\n",
    "import os\n",
    "import time\n",
    "import pandas as pd\n",
    "import seaborn as sns\n",
    "import matplotlib.pyplot as plt\n",
    "from jinja2 import Environment, FileSystemLoader\n",
    "from jinja2 import Template\n",
    "import plotly.express as px\n",
    "import json\n",
    "\n",
    "# from fpdf import FPDF\n",
    "# import yake\n",
    "# import docx\n",
    "# from docx.shared import Inches\n",
    "# from docx.enum.text import WD_ALIGN_PARAGRAPH\n"
   ]
  },
  {
   "cell_type": "code",
   "execution_count": 3,
   "metadata": {},
   "outputs": [],
   "source": [
    "# Define time function\n",
    "def get_timestamp():\n",
    "    t = time.localtime()\n",
    "    return time.strftime('%m-%d-%Y %H:%M', t)\n",
    "\n",
    "# Send a request to the URL\n",
    "def get_articles(search_terms):\n",
    "    #print(\"Last updated:\",get_timestamp())\n",
    "    \n",
    "    url = 'https://pubmed.ncbi.nlm.nih.gov/?term=' + search_terms +'&sort=date'\n",
    "    response = requests.get(url)\n",
    "    response.raise_for_status()\n",
    "\n",
    "    # Parse the content using BeautifulSoup\n",
    "    soup = BeautifulSoup(response.content, 'html.parser')\n",
    "\n",
    "    href_tags = soup.find_all(href=True)\n",
    "\n",
    "    # mydivs = soup.find_all(\"div\", {\"class\": \"stylelistrow\"})\n",
    "    mydivs = soup.find_all(\"span\", {\"class\": \"value\"})\n",
    "\n",
    "    import re\n",
    "\n",
    "    text = str(mydivs[0])\n",
    "    pattern = r'<span class=\"value\">([\\d,]+)</span>'\n",
    "\n",
    "    match = re.search(pattern, text)\n",
    "\n",
    "    if match:\n",
    "        extracted_number = match.group(1)\n",
    "        # Remove commas from the extracted number\n",
    "        extracted_number = extracted_number.replace(',', '')\n",
    "        extracted_number = int(extracted_number)\n",
    "        #print(\"Search terms:\",search_terms, \"Articles found:\",extracted_number)\n",
    "\n",
    "    return search_terms,extracted_number"
   ]
  },
  {
   "cell_type": "code",
   "execution_count": 18,
   "metadata": {},
   "outputs": [],
   "source": [
    "def add_element(dict, key, value):\n",
    "    if key not in dict:\n",
    "        dict[key] = []\n",
    "    dict[key].append(value)"
   ]
  },
  {
   "cell_type": "code",
   "execution_count": 38,
   "metadata": {},
   "outputs": [],
   "source": [
    "search_terms = [\"dementia\",\"dementia+alzheimers\",\"alzheimers\",\"alzheimers+disease\",\"dementia+MRI\",\"alzheimers+MRI\",\n",
    "                ]\n",
    "\n",
    "data = []\n",
    "data_dict = {}\n",
    "add_element(data_dict,'Timestamp',get_timestamp())\n",
    "for k in search_terms:\n",
    "    search_terms,extracted_number =  get_articles(k)\n",
    "    add_element(data_dict,search_terms,extracted_number)\n",
    "    data.append([search_terms,extracted_number])\n"
   ]
  },
  {
   "cell_type": "code",
   "execution_count": 39,
   "metadata": {},
   "outputs": [
    {
     "data": {
      "text/plain": [
       "{'Timestamp': ['01-18-2024 11:40'],\n",
       " 'dementia': [276950],\n",
       " 'dementia+alzheimers': [212392],\n",
       " 'alzheimers': [225072],\n",
       " 'alzheimers+disease': [211136],\n",
       " 'dementia+MRI': [24892],\n",
       " 'alzheimers+MRI': [18612]}"
      ]
     },
     "execution_count": 39,
     "metadata": {},
     "output_type": "execute_result"
    }
   ],
   "source": [
    "data_dict"
   ]
  },
  {
   "cell_type": "code",
   "execution_count": 41,
   "metadata": {},
   "outputs": [],
   "source": [
    "def update_pubmed_json(data_dict):\n",
    "    with open(\"E:/Kaggle/pradhanhitesh/data/pubmed.json\") as doc:\n",
    "        docObj = json.load(doc)\n",
    "        docObj.append(\n",
    "            data_dict\n",
    "        )\n",
    "    with open(\"E:/Kaggle/pradhanhitesh/data/pubmed.json\", 'w') as json_file:\n",
    "        json.dump(docObj, json_file, \n",
    "                  indent=4,  \n",
    "                  separators=(',',': '))\n",
    "    return"
   ]
  },
  {
   "cell_type": "code",
   "execution_count": 42,
   "metadata": {},
   "outputs": [],
   "source": [
    "update_pubmed_json(data_dict=data_dict)"
   ]
  },
  {
   "cell_type": "code",
   "execution_count": 5,
   "metadata": {},
   "outputs": [],
   "source": [
    "data_df = pd.DataFrame(data,columns=['Keywords','Count'])"
   ]
  },
  {
   "cell_type": "code",
   "execution_count": 6,
   "metadata": {},
   "outputs": [
    {
     "data": {
      "text/html": [
       "<div>\n",
       "<style scoped>\n",
       "    .dataframe tbody tr th:only-of-type {\n",
       "        vertical-align: middle;\n",
       "    }\n",
       "\n",
       "    .dataframe tbody tr th {\n",
       "        vertical-align: top;\n",
       "    }\n",
       "\n",
       "    .dataframe thead th {\n",
       "        text-align: right;\n",
       "    }\n",
       "</style>\n",
       "<table border=\"1\" class=\"dataframe\">\n",
       "  <thead>\n",
       "    <tr style=\"text-align: right;\">\n",
       "      <th></th>\n",
       "      <th>Keywords</th>\n",
       "      <th>Count</th>\n",
       "    </tr>\n",
       "  </thead>\n",
       "  <tbody>\n",
       "    <tr>\n",
       "      <th>0</th>\n",
       "      <td>dementia</td>\n",
       "      <td>276950</td>\n",
       "    </tr>\n",
       "    <tr>\n",
       "      <th>2</th>\n",
       "      <td>alzheimers</td>\n",
       "      <td>225072</td>\n",
       "    </tr>\n",
       "    <tr>\n",
       "      <th>1</th>\n",
       "      <td>dementia+alzheimers</td>\n",
       "      <td>212392</td>\n",
       "    </tr>\n",
       "    <tr>\n",
       "      <th>3</th>\n",
       "      <td>alzheimers+disease</td>\n",
       "      <td>211136</td>\n",
       "    </tr>\n",
       "    <tr>\n",
       "      <th>4</th>\n",
       "      <td>dementia+MRI</td>\n",
       "      <td>24892</td>\n",
       "    </tr>\n",
       "    <tr>\n",
       "      <th>5</th>\n",
       "      <td>alzheimers+MRI</td>\n",
       "      <td>18612</td>\n",
       "    </tr>\n",
       "    <tr>\n",
       "      <th>6</th>\n",
       "      <td>dementia+alzheimers+MRI</td>\n",
       "      <td>17771</td>\n",
       "    </tr>\n",
       "  </tbody>\n",
       "</table>\n",
       "</div>"
      ],
      "text/plain": [
       "                  Keywords   Count\n",
       "0                 dementia  276950\n",
       "2               alzheimers  225072\n",
       "1      dementia+alzheimers  212392\n",
       "3       alzheimers+disease  211136\n",
       "4             dementia+MRI   24892\n",
       "5           alzheimers+MRI   18612\n",
       "6  dementia+alzheimers+MRI   17771"
      ]
     },
     "execution_count": 6,
     "metadata": {},
     "output_type": "execute_result"
    }
   ],
   "source": [
    "data_df.sort_values(by='Count',ascending=False)"
   ]
  },
  {
   "cell_type": "code",
   "execution_count": 8,
   "metadata": {},
   "outputs": [
    {
     "data": {
      "image/png": "[encoded data removed]",
      "text/plain": [
       "<Figure size 864x360 with 1 Axes>"
      ]
     },
     "metadata": {
      "needs_background": "light"
     },
     "output_type": "display_data"
    }
   ],
   "source": [
    "plt.figure(figsize=(12,5))\n",
    "plt.xticks(range(len(data_df)), list(data_df['Keywords']), rotation=45)\n",
    "ax = sns.barplot(data=data_df,x='Keywords',y='Count')\n",
    "ax.bar_label(ax.containers[0])\n",
    "txt = \"Last updated on: \" + str(get_timestamp()) + \" UTC\"\n",
    "plt.text(2.6, 269000, txt, fontsize = 16)\n",
    "plt.show()"
   ]
  },
  {
   "cell_type": "code",
   "execution_count": 43,
   "metadata": {},
   "outputs": [],
   "source": [
    "import re\n",
    "import requests\n",
    "import smtplib\n",
    "from email.message import EmailMessage\n",
    "from bs4 import BeautifulSoup\n",
    "import datetime\n",
    "import os\n",
    "import time\n",
    "import pandas as pd\n",
    "import seaborn as sns\n",
    "import matplotlib.pyplot as plt\n",
    "from jinja2 import Environment, FileSystemLoader\n",
    "import json\n",
    "\n",
    "def get_timestamp():\n",
    "    t = time.localtime()\n",
    "    return time.strftime('%Y-%m-%d %H:%M:%S', t)\n",
    "\n",
    "def get_metadata(search_terms):\n",
    "\n",
    "    # Set the PubMed URL    \n",
    "    url = 'https://pubmed.ncbi.nlm.nih.gov/?term=' + search_terms +'&sort=date'\n",
    "    response = requests.get(url)\n",
    "    response.raise_for_status()\n",
    "\n",
    "    # Parse the content using BeautifulSoup\n",
    "    soup = BeautifulSoup(response.content, 'html.parser')\n",
    "    href_tags = soup.find_all(href=True)\n",
    "    mydivs = soup.find_all(\"span\", {\"class\": \"value\"})\n",
    "\n",
    "    # Extract the number of articles for the keyword_search\n",
    "    text = str(mydivs[0])\n",
    "    pattern = r'<span class=\"value\">([\\d,]+)</span>'\n",
    "    match = re.search(pattern, text)\n",
    "\n",
    "    if match:\n",
    "        extracted_number = match.group(1)\n",
    "        # Remove commas from the extracted number\n",
    "        extracted_number = int(extracted_number.replace(',', ''))\n",
    "\n",
    "    return search_terms,extracted_number\n",
    "\n",
    "def add_element(dict, key, value):\n",
    "    if key not in dict:\n",
    "        dict[key] = []\n",
    "    dict[key].append(value)\n",
    "\n",
    "def arrange_metadata(search_terms):\n",
    "\n",
    "    data = []\n",
    "    data_dict = {}\n",
    "    add_element(data_dict,'Timestamp',get_timestamp())\n",
    "    for k in search_terms:\n",
    "        search_terms,extracted_number =  get_metadata(k)\n",
    "        add_element(data_dict,search_terms,extracted_number)\n",
    "        data.append([search_terms,extracted_number])\n",
    "    \n",
    "    data_df = pd.DataFrame(data,columns=['Keywords','Count'])\n",
    "    data_df = data_df.sort_values(by='Count',ascending=False)\n",
    "\n",
    "    return data_df,data_dict\n",
    "\n",
    "def update_pubmed_json(data_dict):\n",
    "    with open(\"data/pubmed.json\") as doc:\n",
    "        docObj = json.load(doc)\n",
    "        docObj.append(\n",
    "            data_dict\n",
    "        )\n",
    "    with open(\"data/pubmed.json\", 'w') as json_file:\n",
    "        json.dump(docObj, json_file, \n",
    "                  indent=4,  \n",
    "                  separators=(',',': '))\n",
    "    return\n",
    "\n",
    "def generate_plot(data_df,time):\n",
    "    # Set defaults for plot\n",
    "    plt.figure(figsize=(12,5))\n",
    "    plt.xticks(range(len(data_df)), list(data_df['Keywords']), rotation=45)\n",
    "\n",
    "    # Create barplots\n",
    "    ax = sns.barplot(data=data_df,x='Keywords',y='Count')\n",
    "    ax.bar_label(ax.containers[0])\n",
    "    txt = \"Last updated on: \" + str(time) + \" UTC\"\n",
    "    plt.text(2.6, 269000, txt, fontsize = 16)\n",
    " \n",
    "    # Save the figure\n",
    "    plt.savefig('figure.png',bbox_inches='tight')\n",
    "    plt.close()\n",
    "\n",
    "    return\n",
    "\n",
    "def generate_html_for_plot():\n",
    "    all_files = os.listdir(\"./\")\n",
    "    png_files = [file for file in all_files if file.endswith('.png')]\n",
    "\n",
    "    template_vars = {\n",
    "        'plot' : f'<img src=\"{png_files[0]}\" width=\"650\" height=\"400\">'\n",
    "        }\n",
    "    \n",
    "    return template_vars"
   ]
  },
  {
   "cell_type": "code",
   "execution_count": 44,
   "metadata": {},
   "outputs": [],
   "source": [
    "search_terms = [\"dementia\",\"dementia+alzheimers\",\"alzheimers\",\"alzheimers+disease\",\"dementia+MRI\",\"alzheimers+MRI\",\n",
    "                \"dementia+alzheimers+MRI\"]\n",
    "\n",
    "data_df,data_dict = arrange_metadata(search_terms)"
   ]
  },
  {
   "cell_type": "code",
   "execution_count": 45,
   "metadata": {},
   "outputs": [
    {
     "data": {
      "text/plain": [
       "{'Timestamp': ['2024-01-18 11:51:59'],\n",
       " 'dementia': [276950],\n",
       " 'dementia+alzheimers': [212392],\n",
       " 'alzheimers': [225072],\n",
       " 'alzheimers+disease': [211136],\n",
       " 'dementia+MRI': [24892],\n",
       " 'alzheimers+MRI': [18612],\n",
       " 'dementia+alzheimers+MRI': [17771]}"
      ]
     },
     "execution_count": 45,
     "metadata": {},
     "output_type": "execute_result"
    }
   ],
   "source": [
    "data_dict"
   ]
  },
  {
   "cell_type": "code",
   "execution_count": 46,
   "metadata": {},
   "outputs": [
    {
     "data": {
      "text/html": [
       "<div>\n",
       "<style scoped>\n",
       "    .dataframe tbody tr th:only-of-type {\n",
       "        vertical-align: middle;\n",
       "    }\n",
       "\n",
       "    .dataframe tbody tr th {\n",
       "        vertical-align: top;\n",
       "    }\n",
       "\n",
       "    .dataframe thead th {\n",
       "        text-align: right;\n",
       "    }\n",
       "</style>\n",
       "<table border=\"1\" class=\"dataframe\">\n",
       "  <thead>\n",
       "    <tr style=\"text-align: right;\">\n",
       "      <th></th>\n",
       "      <th>Keywords</th>\n",
       "      <th>Count</th>\n",
       "    </tr>\n",
       "  </thead>\n",
       "  <tbody>\n",
       "    <tr>\n",
       "      <th>0</th>\n",
       "      <td>dementia</td>\n",
       "      <td>276950</td>\n",
       "    </tr>\n",
       "    <tr>\n",
       "      <th>2</th>\n",
       "      <td>alzheimers</td>\n",
       "      <td>225072</td>\n",
       "    </tr>\n",
       "    <tr>\n",
       "      <th>1</th>\n",
       "      <td>dementia+alzheimers</td>\n",
       "      <td>212392</td>\n",
       "    </tr>\n",
       "    <tr>\n",
       "      <th>3</th>\n",
       "      <td>alzheimers+disease</td>\n",
       "      <td>211136</td>\n",
       "    </tr>\n",
       "    <tr>\n",
       "      <th>4</th>\n",
       "      <td>dementia+MRI</td>\n",
       "      <td>24892</td>\n",
       "    </tr>\n",
       "    <tr>\n",
       "      <th>5</th>\n",
       "      <td>alzheimers+MRI</td>\n",
       "      <td>18612</td>\n",
       "    </tr>\n",
       "    <tr>\n",
       "      <th>6</th>\n",
       "      <td>dementia+alzheimers+MRI</td>\n",
       "      <td>17771</td>\n",
       "    </tr>\n",
       "  </tbody>\n",
       "</table>\n",
       "</div>"
      ],
      "text/plain": [
       "                  Keywords   Count\n",
       "0                 dementia  276950\n",
       "2               alzheimers  225072\n",
       "1      dementia+alzheimers  212392\n",
       "3       alzheimers+disease  211136\n",
       "4             dementia+MRI   24892\n",
       "5           alzheimers+MRI   18612\n",
       "6  dementia+alzheimers+MRI   17771"
      ]
     },
     "execution_count": 46,
     "metadata": {},
     "output_type": "execute_result"
    }
   ],
   "source": [
    "data_df"
   ]
  }
 ],
 "metadata": {
  "kernelspec": {
   "display_name": "env",
   "language": "python",
   "name": "python3"
  },
  "language_info": {
   "codemirror_mode": {
    "name": "ipython",
    "version": 3
   },
   "file_extension": ".py",
   "mimetype": "text/x-python",
   "name": "python",
   "nbconvert_exporter": "python",
   "pygments_lexer": "ipython3",
   "version": "3.9.12"
  }
 },
 "nbformat": 4,
 "nbformat_minor": 2
}
